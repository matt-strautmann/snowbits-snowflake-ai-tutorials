{
 "metadata": {
  "kernelspec": {
   "display_name": "Streamlit Notebook",
   "name": "streamlit"
  }
 },
 "nbformat_minor": 5,
 "nbformat": 4,
 "cells": [
  {
   "cell_type": "code",
   "id": "3775908f-ca36-4846-8f38-5adca39217f2",
   "metadata": {
    "language": "python",
    "name": "Import_Packages",
    "collapsed": false
   },
   "source": "# Import python packages for Streamlit and Native Pandas\nimport streamlit as st\nimport pandas as pd\n\n# Import the Snowpark pandas plugin for modin\nimport modin.pandas as spd\nimport snowflake.snowpark.modin.plugin\n",
   "execution_count": null,
   "outputs": []
  },
  {
   "cell_type": "code",
   "id": "d6817421-1a73-4894-a905-d856b305a229",
   "metadata": {
    "language": "python",
    "name": "Create_Snowflake_Session"
   },
   "outputs": [],
   "source": "# Create a Snowflake Session\n\nfrom snowflake.snowpark.context import get_active_session\n\nsession = get_active_session()",
   "execution_count": null
  },
  {
   "cell_type": "code",
   "id": "70b41e69-f792-4835-a74c-7ef9c93e2d5e",
   "metadata": {
    "language": "python",
    "name": "Test_Snowflake_Pandas"
   },
   "outputs": [],
   "source": "# Getting Started - Reading Data from Snowflake\n# Read data into a Snowpark pandas df\n\nfrom time import perf_counter\n\nstart = perf_counter()\n\nspd_df = spd.read_snowflake(\"SNOWFLAKE_SAMPLE_DATA.TPCDS_SF100TCL.CATALOG_PAGE\")\n\nend = perf_counter()\ndata_size = len(spd_df)\n\nprint(f\"Took {end - start} seconds to read a table with {data_size} rows into Snowpark pandas!\")",
   "execution_count": null
  },
  {
   "cell_type": "code",
   "id": "6da67ca6-9045-458d-ab0f-74d67f9b3320",
   "metadata": {
    "language": "python",
    "name": "Test_Native_Pandas"
   },
   "outputs": [],
   "source": "## 2. Read data using native Pandas.\n\n# Read data into a local native pandas df - \n# recommended to kill this cell after waiting a few minutes! \n#\n# This code block will fail on an XS warehouse.\n\nfrom time import perf_counter\n\nstart = perf_counter()\n\n# Create a cursor object.\ncur = session.connection.cursor()\n\n# Execute a statement that will generate a result set.\nsql = \"select * from SNOWFLAKE_SAMPLE_DATA.TPCDS_SF100TCL.INVENTORY\"\ncur.execute(sql)\n\n# Fetch the result set from the cursor and deliver it as the pandas DataFrame.\nnative_pd_df = cur.fetch_pandas_all()\nend = perf_counter()\nprint(f\"Native pandas took {end - start} seconds to read the data!\")",
   "execution_count": null
  }
 ]
}