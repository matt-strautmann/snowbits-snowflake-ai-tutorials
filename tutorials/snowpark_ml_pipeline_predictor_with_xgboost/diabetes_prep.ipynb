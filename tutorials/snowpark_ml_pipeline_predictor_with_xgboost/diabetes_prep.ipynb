{
 "cells": [
  {
   "cell_type": "markdown",
   "metadata": {},
   "source": [
    "# Snowpark for ML - Diabetes Data Preparation Example\n",
    "\n",
    "This notebook does the feature engineering for the diabetes model."
   ]
  },
  {
   "cell_type": "markdown",
   "metadata": {},
   "source": [
    "## 1. Get the data "
   ]
  },
  {
   "cell_type": "code",
   "execution_count": null,
   "metadata": {},
   "outputs": [],
   "source": [
    "from ucimlrepo import fetch_ucirepo \n",
    "import pandas as pd\n",
    "import numpy as np"
   ]
  },
  {
   "cell_type": "code",
   "execution_count": null,
   "metadata": {},
   "outputs": [],
   "source": [
    "# fetch dataset \n",
    "diabetes_130_us_hospitals_for_years_1999_2008 = fetch_ucirepo(id=296) \n",
    "  \n",
    "# data (as pandas dataframes) \n",
    "X = diabetes_130_us_hospitals_for_years_1999_2008.data.features \n",
    "y = diabetes_130_us_hospitals_for_years_1999_2008.data.targets \n",
    "\n",
    "df = pd.concat([X,y], axis=1)\n",
    "  \n",
    "# variable information \n",
    "print(diabetes_130_us_hospitals_for_years_1999_2008.variables) "
   ]
  },
  {
   "cell_type": "markdown",
   "metadata": {},
   "source": [
    "## 2. Feature Engineering"
   ]
  },
  {
   "cell_type": "code",
   "execution_count": null,
   "metadata": {},
   "outputs": [],
   "source": [
    "df['readmitted'] = df['readmitted'].replace({'NO': 0, '>30': 1, '<30': 1})\n",
    "df['race'] = df['race'].replace({np.nan: 'Other'})\n",
    "df = df[df['gender'] != 'Unknown/Invalid']\n",
    "\n",
    "df['age'] = df['age'].replace({\"[70-80)\":\"70+\",\n",
    "                               \"[60-70)\":\"[50-70)\",\n",
    "                               \"[50-60)\":\"[50-70)\",\n",
    "                               \"[80-90)\":\"70+\",\n",
    "                               \"[40-50)\":\"[20-50)\",\n",
    "                               \"[30-40)\":\"[20-50)\",\n",
    "                               \"[90-100)\":\"70+\",\n",
    "                               \"[20-30)\":\"[20-50)\"})\n",
    "\n",
    "\n",
    "df['admission_type_id'] = df['admission_type_id'].replace({1.0:\"Emergency\",\n",
    "                                                           2.0:\"Emergency\",\n",
    "                                                           3.0:\"Elective\",\n",
    "                                                           4.0:\"New Born\",\n",
    "                                                           5.0:np.nan,\n",
    "                                                           6.0:np.nan,\n",
    "                                                           7.0:\"Trauma Center\",\n",
    "                                                           8.0:np.nan})\n",
    "\n",
    "df['discharge_disposition_id'] = df['discharge_disposition_id'].replace(\n",
    "    {1:\"Discharged to Home\",\n",
    "     6:\"Discharged to Home\",\n",
    "     8:\"Discharged to Home\",\n",
    "     13:\"Discharged to Home\",\n",
    "     19:\"Discharged to Home\",\n",
    "     18:np.nan, 25:np.nan, 26:np.nan,\n",
    "     2:\"Other\", 3:\"Other\", 4:\"Other\",\n",
    "     5:\"Other\", 7:\"Other\", 9:\"Other\",\n",
    "     10:\"Other\", 11:\"Other\", 12:\"Other\",\n",
    "     14:\"Other\", 15:\"Other\", 16:\"Other\",\n",
    "     17:\"Other\", 20:\"Other\", 21:\"Other\",\n",
    "     22:\"Other\", 23:\"Other\", 24:\"Other\",\n",
    "     27:\"Other\", 28:\"Other\", 29:\"Other\", 30:\"Other\"}\n",
    ") \n",
    "\n",
    "df['admission_source_id'] = df['admission_source_id'].replace(\n",
    "    {1:\"Referral\", 2:\"Referral\", 3:\"Referral\", 4:\"Transfer\",\n",
    "     5:\"Transfer\", 6:\"Transfer\", 7:\"Emergency\", 8:\"Other\",\n",
    "     9:\"Other\", 10:\"Transfer\", 11:\"Other\", 12:\"Other\",\n",
    "     13:\"Other\", 14:\"Other\", 15:np.nan, 17:np.nan, \n",
    "     18:\"Transfer\", 19:\"Other\", 20:np.nan, 21:np.nan,\n",
    "     22:\"Transfer\", 23:\"Other\", 24: \"Other\", 25:\"Transfer\",\n",
    "     26: \"Transfer\"}\n",
    ")\n",
    "\n",
    "df['medical_specialty'] = df['medical_specialty'].replace(\n",
    "    {\"Orthopedics-Reconstructive\": \"Orthopedics\",\n",
    "     \"Surgeon\": \"Surgery-General\",\n",
    "     \"Surgery-Cardiovascular\": \"Surgery-Cardiovascular/Thoracic\",\n",
    "     \"Surgery-Thoracic\": \"Surgery-Cardiovascular/Thoracic\",\n",
    "     \"Pediatrics-Endocrinology\": \"Pediatrics\",\n",
    "     \"Pediatrics-CriticalCare\": \"Pediatrics\",\n",
    "     \"Pediatrics-Pulmonology\": \"Pediatrics\",\n",
    "     \"Radiologist\": \"Radiology\",\n",
    "     \"Oncology\": \"Hematology/Oncology\",\n",
    "     \"Hematology\": \"Hematology/Oncology\",\n",
    "     \"Gynecology\": \"ObstetricsandGynecology\",\n",
    "     \"Obstetrics\": \"ObstetricsandGynecology\"\n",
    "     }\n",
    ")\n",
    "df['medical_specialty'] = df['medical_specialty'].replace(\n",
    "    {spec: \"Other\" for spec in df['medical_specialty'].value_counts().index.values[15:]}\n",
    ")\n",
    "\n",
    "\n",
    "def map_diagnosis(data, cols):\n",
    "    for col in cols:\n",
    "        data.loc[(data[col].str.contains(\"V\")) | (data[col].str.contains(\"E\")), col] = -1\n",
    "        data[col] = data[col].astype(np.float16)\n",
    "\n",
    "    for col in cols:\n",
    "        data[\"temp_diag\"] = np.nan\n",
    "        data.loc[(data[col]>=390) & (data[col]<=459) | (data[col]==785), \"temp_diag\"] = \"Circulatory\"\n",
    "        data.loc[(data[col]>=460) & (data[col]<=519) | (data[col]==786), \"temp_diag\"] = \"Respiratory\"\n",
    "        data.loc[(data[col]>=520) & (data[col]<=579) | (data[col]==787), \"temp_diag\"] = \"Digestive\"\n",
    "        data.loc[(data[col]>=680) & (data[col]<=709) | (data[col]==782), \"temp_diag\"] = \"Skin\"\n",
    "        data.loc[(data[col]>=240) & (data[col]<250) | (data[col]>251) & (data[col]<=279), \"temp_diag\"] = \"Non-diabetes endocrine/metabolic\"\n",
    "        data.loc[(data[col]>=250) & (data[col]<251), \"temp_diag\"] = \"Diabetes\"\n",
    "        data.loc[(data[col]>=800) & (data[col]<=999), \"temp_diag\"] = \"Injury\"\n",
    "        data.loc[(data[col]>=710) & (data[col]<=739), \"temp_diag\"] = \"Musculoskeletal\"\n",
    "        data.loc[(data[col]>=580) & (data[col]<=629) | (data[col] == 788), \"temp_diag\"] = \"Genitourinary\"\n",
    "        data.loc[(data[col]>=140) & (data[col]<=239), \"temp_diag\"] = \"Neoplasms\"\n",
    "        data.loc[(data[col]>=290) & (data[col]<=319), \"temp_diag\"] = \"Mental\"\n",
    "        data.loc[(data[col]>=1) & (data[col]<=139), \"temp_diag\"] = \"Infectious\"\n",
    "\n",
    "        data[\"temp_diag\"] = data[\"temp_diag\"].fillna(\"Other\")\n",
    "        data[col] = data[\"temp_diag\"]\n",
    "        data = data.drop(\"temp_diag\", axis=1)\n",
    "\n",
    "    return data\n",
    "\n",
    "df = map_diagnosis(df, [\"diag_1\",\"diag_2\",\"diag_3\"])\n",
    "\n",
    "\n",
    "df['diabetesMed'] = df['diabetesMed'].replace({'Yes': 1, 'No': 0})\n",
    "\n",
    "df['change'] = df['change'].replace({'Ch': 1, 'No': 0})\n",
    "\n",
    "drop_columns = ['weight', 'payer_code']"
   ]
  },
  {
   "cell_type": "code",
   "execution_count": null,
   "metadata": {},
   "outputs": [],
   "source": [
    "meds = ['metformin', 'repaglinide', 'nateglinide', 'chlorpropamide',\n",
    "       'glimepiride', 'glipizide', 'glyburide', 'pioglitazone',\n",
    "       'rosiglitazone', 'acarbose', 'miglitol', 'tolazamide', 'insulin',\n",
    "       'glyburide-metformin']\n",
    "\n",
    "\n",
    "drop_columns = drop_columns + meds"
   ]
  },
  {
   "cell_type": "code",
   "execution_count": null,
   "metadata": {},
   "outputs": [],
   "source": [
    "X, y = df.drop(drop_columns + ['readmitted'], axis=1), df['readmitted']\n",
    "df_clean = pd.concat([X, y], axis=1)"
   ]
  },
  {
   "cell_type": "code",
   "execution_count": null,
   "metadata": {},
   "outputs": [],
   "source": [
    "##save a local copy if needed\n",
    "df_clean = pd.read_csv('diabetes_clean.csv')"
   ]
  }
 ],
 "metadata": {
  "kernelspec": {
   "display_name": "nlp_ml_sentiment_analysis",
   "language": "python",
   "name": "python3"
  },
  "language_info": {
   "codemirror_mode": {
    "name": "ipython",
    "version": 3
   },
   "file_extension": ".py",
   "mimetype": "text/x-python",
   "name": "python",
   "nbconvert_exporter": "python",
   "pygments_lexer": "ipython3",
   "version": "3.8.18"
  }
 },
 "nbformat": 4,
 "nbformat_minor": 2
}
